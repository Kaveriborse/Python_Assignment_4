{
 "cells": [
  {
   "cell_type": "markdown",
   "id": "acd5385c",
   "metadata": {},
   "source": [
    "# 1. What exactly is []?"
   ]
  },
  {
   "cell_type": "markdown",
   "id": "6c1bf285",
   "metadata": {},
   "source": [
    "The symbol \"[]\" typically represents an empty list in various programming languages, especially in languages like Python. A list is a data structure that can hold multiple values in a sequence. When you see \"[]\" in code, it usually means that you're creating an empty list with no initial elements."
   ]
  },
  {
   "cell_type": "markdown",
   "id": "70b0024e",
   "metadata": {},
   "source": [
    "# 2. In a list of values stored in a variable called spam, how would you assign the value &#39;hello&#39; as the third value? (Assume [2, 4, 6, 8, 10] are in spam.)"
   ]
  },
  {
   "cell_type": "markdown",
   "id": "f0ad1ae9",
   "metadata": {},
   "source": [
    "In Python, list indexing starts from 0. So, to assign the value 'hello' as the third value in the list stored in the variable spam, you would use index 2 (remembering that indices are 0-based):"
   ]
  },
  {
   "cell_type": "code",
   "execution_count": 2,
   "id": "33dabcb6",
   "metadata": {},
   "outputs": [
    {
     "data": {
      "text/plain": [
       "[2, 4, 'hello', 8, 10]"
      ]
     },
     "execution_count": 2,
     "metadata": {},
     "output_type": "execute_result"
    }
   ],
   "source": [
    "spam = [2, 4, 6, 8, 10]\n",
    "spam[2] = 'hello'\n",
    "spam"
   ]
  },
  {
   "cell_type": "markdown",
   "id": "0e3e9877",
   "metadata": {},
   "source": [
    "Let&#39;s pretend the spam includes the list [&#39;a&#39;, &#39;b&#39;, &#39;c&#39;, &#39;d&#39;] for the next three queries."
   ]
  },
  {
   "cell_type": "code",
   "execution_count": 3,
   "id": "a6205c38",
   "metadata": {},
   "outputs": [
    {
     "data": {
      "text/plain": [
       "['a', 'b', 'c', 'd']"
      ]
     },
     "execution_count": 3,
     "metadata": {},
     "output_type": "execute_result"
    }
   ],
   "source": [
    "spam=['a','b','c','d']\n",
    "spam"
   ]
  },
  {
   "cell_type": "markdown",
   "id": "6d06135d",
   "metadata": {},
   "source": [
    "# 3. What is the value of spam[int(int(&#39;3&#39; * 2) / 11)]?"
   ]
  },
  {
   "cell_type": "markdown",
   "id": "7b61edfd",
   "metadata": {},
   "source": [
    "d"
   ]
  },
  {
   "cell_type": "markdown",
   "id": "0c2e76c7",
   "metadata": {},
   "source": [
    "# 4. What is the value of spam[-1]?"
   ]
  },
  {
   "cell_type": "markdown",
   "id": "caab8c2d",
   "metadata": {},
   "source": [
    "d"
   ]
  },
  {
   "cell_type": "markdown",
   "id": "f71081ce",
   "metadata": {},
   "source": [
    "# 5. What is the value of spam[:2]?"
   ]
  },
  {
   "cell_type": "markdown",
   "id": "794d7a76",
   "metadata": {},
   "source": [
    "['a', 'b']"
   ]
  },
  {
   "cell_type": "markdown",
   "id": "3826864a",
   "metadata": {},
   "source": [
    "#Let&#39;s pretend bacon has the list [3.14, &#39;cat,&#39; 11, &#39;cat,&#39; True] for the next three questions."
   ]
  },
  {
   "cell_type": "markdown",
   "id": "492fbca0",
   "metadata": {},
   "source": [
    "# 6. What is the value of bacon.index(&#39;cat&#39;)?"
   ]
  },
  {
   "cell_type": "markdown",
   "id": "c2e8da44",
   "metadata": {},
   "source": [
    "index of cat is \"1\""
   ]
  },
  {
   "cell_type": "markdown",
   "id": "71498fca",
   "metadata": {},
   "source": [
    "# 7. How does bacon.append(99) change the look of the list value in bacon?"
   ]
  },
  {
   "cell_type": "code",
   "execution_count": 12,
   "id": "1b7c8714",
   "metadata": {},
   "outputs": [
    {
     "data": {
      "text/plain": [
       "[3.14, 'cat', 11, 'cat', 'True', 99]"
      ]
     },
     "execution_count": 12,
     "metadata": {},
     "output_type": "execute_result"
    }
   ],
   "source": [
    "bacon=[3.14,'cat', 11, 'cat', 'True']\n",
    "bacon.append(99)\n",
    "bacon"
   ]
  },
  {
   "cell_type": "markdown",
   "id": "df06a9df",
   "metadata": {},
   "source": [
    "[3.14, 'cat', 11, 'cat', 'True', 99]"
   ]
  },
  {
   "cell_type": "markdown",
   "id": "4b049ab7",
   "metadata": {},
   "source": [
    "# 8. How does bacon.remove(&#39;cat&#39;) change the look of the list in bacon?"
   ]
  },
  {
   "cell_type": "markdown",
   "id": "cfe888d9",
   "metadata": {},
   "source": [
    "[3.14, 11, 'cat', 'True']"
   ]
  },
  {
   "cell_type": "markdown",
   "id": "269dd042",
   "metadata": {},
   "source": [
    "# 9. What are the list concatenation and list replication operators?"
   ]
  },
  {
   "cell_type": "markdown",
   "id": "9f85144e",
   "metadata": {},
   "source": [
    "In Python, the list concatenation operator is +, and the list replication operator is *.\n",
    "\n",
    "List Concatenation (+): The + operator allows you to combine two or more lists into a single list. \n",
    "\n",
    "List Replication (*): The * operator allows you to create a new list by replicating an existing list a certain number of times.\n",
    "\n",
    "It's important to note that both the concatenation and replication operators create new lists and do not modify the original lists."
   ]
  },
  {
   "cell_type": "code",
   "execution_count": 13,
   "id": "53ca4012",
   "metadata": {},
   "outputs": [
    {
     "name": "stdout",
     "output_type": "stream",
     "text": [
      "[1, 2, 3, 4, 5, 6]\n"
     ]
    }
   ],
   "source": [
    "list1 = [1, 2, 3]\n",
    "list2 = [4, 5, 6]\n",
    "concatenated_list = list1 + list2\n",
    "print(concatenated_list) "
   ]
  },
  {
   "cell_type": "code",
   "execution_count": 14,
   "id": "4bb78cfc",
   "metadata": {},
   "outputs": [
    {
     "name": "stdout",
     "output_type": "stream",
     "text": [
      "[0, 1, 0, 1, 0, 1]\n"
     ]
    }
   ],
   "source": [
    "original_list = [0, 1]\n",
    "replicated_list = original_list * 3\n",
    "print(replicated_list)  "
   ]
  },
  {
   "cell_type": "markdown",
   "id": "2f88ce4d",
   "metadata": {},
   "source": [
    "# 10. What is difference between the list methods append() and insert()?"
   ]
  },
  {
   "cell_type": "markdown",
   "id": "a7ac246a",
   "metadata": {},
   "source": [
    "Both the append() and insert() methods are used to add elements to a list in Python, but they differ in how they add elements and where they place them within the list.\n",
    "\n",
    "append() Method:\n",
    "The append() method is used to add an element to the end of a list. It takes a single argument, which is the value you want to add to the list. The new element will be added to the end of the list, increasing its length by one."
   ]
  },
  {
   "cell_type": "code",
   "execution_count": 16,
   "id": "637bc2b8",
   "metadata": {},
   "outputs": [
    {
     "data": {
      "text/plain": [
       "[1, 2, 3, 4]"
      ]
     },
     "execution_count": 16,
     "metadata": {},
     "output_type": "execute_result"
    }
   ],
   "source": [
    "my_list = [1, 2, 3]\n",
    "my_list.append(4)\n",
    "my_list"
   ]
  },
  {
   "cell_type": "markdown",
   "id": "0a54a345",
   "metadata": {},
   "source": [
    "insert() Method:\n",
    "The insert() method is used to add an element at a specific index in the list. It takes two arguments: the index where you want to insert the element and the value of the element you want to insert.\n",
    "\n",
    "the primary difference between append() and insert() is the position where the new element is added: append() adds to the end of the list, while insert() allows you to specify the index where the element should be inserted."
   ]
  },
  {
   "cell_type": "code",
   "execution_count": 17,
   "id": "5576bad7",
   "metadata": {},
   "outputs": [
    {
     "data": {
      "text/plain": [
       "[1, 4, 2, 3]"
      ]
     },
     "execution_count": 17,
     "metadata": {},
     "output_type": "execute_result"
    }
   ],
   "source": [
    "my_list = [1, 2, 3]\n",
    "my_list.insert(1, 4)  # Insert 4 at index 1\n",
    "my_list"
   ]
  },
  {
   "cell_type": "markdown",
   "id": "18a8c6f1",
   "metadata": {},
   "source": [
    "# 11. What are the two methods for removing items from a list?"
   ]
  },
  {
   "cell_type": "markdown",
   "id": "cb2afe95",
   "metadata": {},
   "source": [
    "There are two common methods for removing items from a list are  : remove() and pop().\n",
    "\n",
    "remove() Method:\n",
    "The remove() method is used to remove the first occurrence of a specific value from the list. It takes the value you want to remove as an argument."
   ]
  },
  {
   "cell_type": "code",
   "execution_count": 18,
   "id": "bdf64ecc",
   "metadata": {},
   "outputs": [
    {
     "data": {
      "text/plain": [
       "[1, 3, 2, 4]"
      ]
     },
     "execution_count": 18,
     "metadata": {},
     "output_type": "execute_result"
    }
   ],
   "source": [
    "my_list = [1, 2, 3, 2, 4]\n",
    "my_list.remove(2)  # Removes the first occurrence of 2"
   ]
  },
  {
   "cell_type": "markdown",
   "id": "6c5716da",
   "metadata": {},
   "source": [
    "pop() Method:\n",
    "The pop() method is used to remove an element at a specific index from the list. It can also return the removed element. If no index is provided, it removes and returns the last element by default.\n",
    "\n",
    "Both of these methods modify the list in place. If you attempt to use remove() with a value that isn't present in the list, it will raise a ValueError. If you use pop() with an index that's out of bounds, it will raise an IndexError."
   ]
  },
  {
   "cell_type": "code",
   "execution_count": 23,
   "id": "bf8db8aa",
   "metadata": {},
   "outputs": [
    {
     "data": {
      "text/plain": [
       "[1, 3, 4]"
      ]
     },
     "execution_count": 23,
     "metadata": {},
     "output_type": "execute_result"
    }
   ],
   "source": [
    "my_list = [1, 2, 3, 4]\n",
    "removed_element = my_list.pop(1)  # Removes and returns the element at index 1 (2)\n",
    "my_list"
   ]
  },
  {
   "cell_type": "markdown",
   "id": "c7b58b96",
   "metadata": {},
   "source": [
    "# 12. Describe how list values and string values are identical."
   ]
  },
  {
   "cell_type": "markdown",
   "id": "d2948c00",
   "metadata": {},
   "source": [
    "List values and string values in Python share certain characteristics, but they are fundamentally different data types.\n",
    "\n",
    "Similarities:\n",
    "\n",
    "Sequential Data: Both lists and strings are sequential data types, meaning they represent ordered sequences of elements.\n",
    "\n",
    "Indexing: Elements in both lists and strings can be accessed using indexing. Indexing starts from 0, and you can use positive or negative indices to access elements from the beginning or end of the sequence.\n",
    "\n",
    "Slicing: You can extract sub-sequences (slices) from both lists and strings using slicing notation, which allows you to specify start, end, and step values.\n",
    "\n",
    "Iteration: Both lists and strings can be iterated over using loops or other iteration methods.\n",
    "\n",
    "Differences:\n",
    "\n",
    "Mutability: One of the key differences is mutability. Lists are mutable, which means you can change their contents after creation. You can add, remove, or modify elements in a list. Strings, on the other hand, are immutable. Once a string is created, you cannot modify its characters directly. You can create a new string by concatenating or slicing existing strings, but you can't change individual characters in place.\n",
    "\n",
    "Element Types: Lists can hold elements of different data types, including other lists (nested lists), while strings are specifically designed to hold sequences of characters.\n",
    "\n",
    "Methods: Lists and strings have different methods associated with them. For example, lists have methods like append(), remove(), pop(), etc., that are used to manipulate the list's contents. Strings have methods for string-specific operations, like upper(), lower(), replace(), etc.\n",
    "\n",
    "Concatenation and Replication: Both lists and strings can be concatenated using the + operator, and strings can also be replicated using the * operator. However, these operations behave differently due to the mutable nature of lists and immutable nature of strings.\n",
    "\n",
    "In short while there are some similarities between list values and string values, they have distinct properties and behaviors that stem from their differences in mutability and intended use cases."
   ]
  },
  {
   "cell_type": "markdown",
   "id": "69e0848a",
   "metadata": {},
   "source": [
    "# 13. What&#39;s the difference between tuples and lists?"
   ]
  },
  {
   "cell_type": "markdown",
   "id": "748f280b",
   "metadata": {},
   "source": [
    "Tuples and lists are both data structures in Python that are used to store collections of items, but they have several key differences:\n",
    "\n",
    "Mutability:\n",
    "\n",
    "Tuples: Tuples are immutable, which means their elements cannot be changed after creation. Once a tuple is created, you cannot add, remove, or modify elements in it.\n",
    "\n",
    "Lists: Lists are mutable, meaning you can add, remove, and modify elements in a list after it's created.\n",
    "\n",
    "\n",
    "Syntax:\n",
    "\n",
    "Tuples: Tuples are defined using parentheses (), or even without parentheses. Elements within a tuple are separated by commas.\n",
    "\n",
    "Lists: Lists are defined using square brackets []. Similarly, elements within a list are separated by commas.\n",
    "\n",
    "Use Cases:\n",
    "\n",
    "Tuples: Tuples are often used to represent collections of related but immutable data, like coordinates, dates, or components of a larger data structure. They are also commonly used as keys in dictionaries due to their immutability.\n",
    "\n",
    "Lists: Lists are used when you need a mutable collection to which you can dynamically add, remove, or modify elements.\n",
    "\n",
    "Performance:\n",
    "\n",
    "Tuples: Tuples are generally slightly more memory efficient and have slightly faster access times than lists because of their immutability.\n",
    "\n",
    "Lists: Lists are less memory efficient compared to tuples due to their mutable nature.\n",
    "\n",
    "Methods:\n",
    "\n",
    "Tuples: Tuples have fewer built-in methods compared to lists, since they are immutable and can't be changed. They have methods like count() and index() for basic operations.\n",
    "\n",
    "Lists: Lists have a variety of built-in methods for adding, removing, sorting, and manipulating elements, such as append(), extend(), pop(), remove(), sort(), etc.\n",
    "\n",
    "Iteration:\n",
    "\n",
    "Tuples: Tuples can be iterated over just like lists using loops or other iteration methods.\n",
    "\n",
    "Lists: Lists can also be iterated over, and due to their mutability, you can modify elements during iteration.\n",
    "In summary, the main difference between tuples and lists is that tuples are immutable and are typically used for fixed collections of related data, while lists are mutable and provide more flexibility for dynamic operations on elements."
   ]
  },
  {
   "cell_type": "markdown",
   "id": "36b8f7fe",
   "metadata": {},
   "source": [
    "# 14. How do you type a tuple value that only contains the integer 42?"
   ]
  },
  {
   "cell_type": "markdown",
   "id": "ccf4cf79",
   "metadata": {},
   "source": [
    "To create a tuple that contains the integer value 42, you can use parentheses () and place the value 42 inside them, followed by a comma ,. The comma is required to distinguish the tuple from a simple mathematical expression.\n",
    "\n",
    "The trailing comma , after 42 is important to indicate that you're creating a tuple with a single element. Without the comma, Python might interpret the expression as just an integer, rather than a tuple.\n",
    "\n",
    "#Both of these approaches will create a tuple with the integer value 42 as its only element.\n",
    "\n",
    "Here's how you would type a tuple containing the integer 42:"
   ]
  },
  {
   "cell_type": "code",
   "execution_count": 26,
   "id": "2b569ee0",
   "metadata": {},
   "outputs": [
    {
     "data": {
      "text/plain": [
       "(42,)"
      ]
     },
     "execution_count": 26,
     "metadata": {},
     "output_type": "execute_result"
    }
   ],
   "source": [
    "my_tuple = (42,)\n",
    "my_tuple"
   ]
  },
  {
   "cell_type": "code",
   "execution_count": 28,
   "id": "a8e14a75",
   "metadata": {},
   "outputs": [
    {
     "data": {
      "text/plain": [
       "(42,)"
      ]
     },
     "execution_count": 28,
     "metadata": {},
     "output_type": "execute_result"
    }
   ],
   "source": [
    "#You can also omit the parentheses and create the same tuple like this:\n",
    "my_tuple = 42,\n",
    "my_tuple"
   ]
  },
  {
   "cell_type": "markdown",
   "id": "ebe1dc8f",
   "metadata": {},
   "source": [
    "# 15. How do you get a list value&#39;s tuple form? How do you get a tuple value&#39;s list form?"
   ]
  },
  {
   "cell_type": "markdown",
   "id": "1914752f",
   "metadata": {},
   "source": [
    "To convert between a list and a tuple in Python, you can use the list() and tuple() built-in functions. Here's how you can do it:\n",
    "\n",
    "The conversion using these methods creates a new data structure with the converted elements, and the original list or tuple remains unchanged.\n",
    "\n",
    "Convert List to Tuple:\n",
    "To convert a list into a tuple, we can use the tuple() function. It takes the list as an argument and returns a tuple with the same elements.\n",
    "\n",
    "Here's a more detailed example:"
   ]
  },
  {
   "cell_type": "code",
   "execution_count": 29,
   "id": "2f538b34",
   "metadata": {},
   "outputs": [
    {
     "data": {
      "text/plain": [
       "(1, 2, 3, 4)"
      ]
     },
     "execution_count": 29,
     "metadata": {},
     "output_type": "execute_result"
    }
   ],
   "source": [
    "my_list = [1, 2, 3, 4]\n",
    "my_tuple = tuple(my_list)\n",
    "my_tuple"
   ]
  },
  {
   "cell_type": "markdown",
   "id": "3dadb048",
   "metadata": {},
   "source": [
    "Convert Tuple to List:\n",
    "To convert a tuple into a list, we can use the list() function. It takes the tuple as an argument and returns a list with the same elements.\n",
    "\n",
    "Here's a more detailed example:"
   ]
  },
  {
   "cell_type": "code",
   "execution_count": 30,
   "id": "c1d3f00e",
   "metadata": {},
   "outputs": [
    {
     "data": {
      "text/plain": [
       "[1, 2, 3, 4]"
      ]
     },
     "execution_count": 30,
     "metadata": {},
     "output_type": "execute_result"
    }
   ],
   "source": [
    "my_tuple = (1, 2, 3, 4)\n",
    "my_list = list(my_tuple)\n",
    "my_list"
   ]
  },
  {
   "cell_type": "markdown",
   "id": "5f33b244",
   "metadata": {},
   "source": [
    "# 16. Variables that &quot;contain&quot; list values are not necessarily lists themselves. Instead, what do they contain?"
   ]
  },
  {
   "cell_type": "markdown",
   "id": "860afd1c",
   "metadata": {},
   "source": [
    "Variables that \"contain\" list values in Python do not actually store the list itself, but rather they store a reference to the list. This concept applies to all mutable objects, not just lists. When we assign a list to a variable, we're assigning a reference to the memory location where the list data is stored, rather than copying the entire list.\n",
    "\n",
    "In other words, the variable contains a reference or pointer to the actual list data in memory. This has implications when you manipulate the list through the variable, as changes made to the list will be reflected in all references to that list.\n",
    "\n",
    "So, variables \"contain\" references to list (or any other mutable object) data, and understanding this reference behavior is important for correctly managing and manipulating data structures in Python.\n",
    "\n",
    "Here's an example to illustrate:"
   ]
  },
  {
   "cell_type": "code",
   "execution_count": 31,
   "id": "f97e480c",
   "metadata": {},
   "outputs": [
    {
     "name": "stdout",
     "output_type": "stream",
     "text": [
      "[1, 2, 3, 4]\n"
     ]
    }
   ],
   "source": [
    "original_list = [1, 2, 3]\n",
    "reference_list = original_list  # Assigning reference, not copying the list\n",
    "\n",
    "reference_list.append(4)\n",
    "print(original_list)    # Output: [1, 2, 3, 4], because both variables refer to the same list"
   ]
  },
  {
   "cell_type": "markdown",
   "id": "040dc8b2",
   "metadata": {},
   "source": [
    "# 17. How do you distinguish between copy.copy() and copy.deepcopy()?"
   ]
  },
  {
   "cell_type": "markdown",
   "id": "c11731f5",
   "metadata": {},
   "source": [
    "In Python's copy module, both copy.copy() and copy.deepcopy() are used to create copies of objects, but they differ in how they handle nested objects (objects within objects) during the copying process.\n",
    "\n",
    "copy.copy():\n",
    "\n",
    "The copy.copy() function creates a shallow copy of an object. A shallow copy creates a new object but does not create copies of the nested objects within the original object. Instead, it copies references to the nested objects. If the nested objects are mutable (like lists or other objects), changes made to these objects in the copied structure will also affect the original structure and vice versa.\n",
    "\n",
    "copy.deepcopy():\n",
    "\n",
    "The copy.deepcopy() function, on the other hand, creates a deep copy of an object. A deep copy creates a new object and also recursively creates copies of all the nested objects within the original object. This means that the copied structure is completely independent of the original structure, including all nested objects. Changes made to the nested objects in the copied structure will not affect the original structure.\n",
    "\n",
    "In summary:\n",
    "\n",
    "Use copy.copy() for creating a new object that is a shallow copy of the original, which means it shares references to nested objects.\n",
    "Use copy.deepcopy() for creating a new object that is a deep copy of the original, meaning it creates independent copies of nested objects."
   ]
  },
  {
   "cell_type": "code",
   "execution_count": 32,
   "id": "056a52d8",
   "metadata": {},
   "outputs": [
    {
     "name": "stdout",
     "output_type": "stream",
     "text": [
      "[[0, 2, 3], [4, 5, 6]]\n",
      "[[0, 2, 3], [4, 5, 6]]\n",
      "[[0, 2, 3], [4, 5, 6]]\n"
     ]
    }
   ],
   "source": [
    "import copy\n",
    "\n",
    "original_list = [[1, 2, 3], [4, 5, 6]]\n",
    "shallow_copied_list = copy.copy(original_list)\n",
    "deep_copied_list = copy.deepcopy(original_list)\n",
    "\n",
    "shallow_copied_list[0][0] = 0\n",
    "deep_copied_list[0][0] = 0\n",
    "\n",
    "print(original_list)         # Output: [[0, 2, 3], [4, 5, 6]]\n",
    "print(shallow_copied_list)   # Output: [[0, 2, 3], [4, 5, 6]]\n",
    "print(deep_copied_list)      # Output: [[0, 2, 3], [4, 5, 6]]"
   ]
  },
  {
   "cell_type": "code",
   "execution_count": 33,
   "id": "1c2b9112",
   "metadata": {},
   "outputs": [
    {
     "name": "stdout",
     "output_type": "stream",
     "text": [
      "[[0, 2, 3], [4, 5, 6]]\n",
      "[[0, 2, 3], [4, 5, 6]]\n"
     ]
    }
   ],
   "source": [
    "original_list = [[1, 2, 3], [4, 5, 6]]\n",
    "shallow_copied_list = copy.copy(original_list)\n",
    "\n",
    "shallow_copied_list[0][0] = 0\n",
    "\n",
    "print(original_list)         # Output: [[0, 2, 3], [4, 5, 6]]\n",
    "print(shallow_copied_list)   # Output: [[0, 2, 3], [4, 5, 6]]\n",
    " #In this example, changing the value of shallow_copied_list[0][0] also changes the corresponding value in original_list, indicating that they share the same nested objects."
   ]
  }
 ],
 "metadata": {
  "kernelspec": {
   "display_name": "Python 3 (ipykernel)",
   "language": "python",
   "name": "python3"
  },
  "language_info": {
   "codemirror_mode": {
    "name": "ipython",
    "version": 3
   },
   "file_extension": ".py",
   "mimetype": "text/x-python",
   "name": "python",
   "nbconvert_exporter": "python",
   "pygments_lexer": "ipython3",
   "version": "3.9.7"
  }
 },
 "nbformat": 4,
 "nbformat_minor": 5
}
